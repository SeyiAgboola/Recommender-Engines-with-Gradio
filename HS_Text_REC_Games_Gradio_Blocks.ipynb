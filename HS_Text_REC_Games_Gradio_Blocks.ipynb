{
  "nbformat": 4,
  "nbformat_minor": 0,
  "metadata": {
    "colab": {
      "name": "HS_Text_REC_Games_Gradio_Blocks.ipynb",
      "provenance": [],
      "collapsed_sections": []
    },
    "kernelspec": {
      "name": "python3",
      "display_name": "Python 3"
    },
    "language_info": {
      "name": "python"
    }
  },
  "cells": [
    {
      "cell_type": "code",
      "execution_count": null,
      "metadata": {
        "id": "9hbx5HUgbg3f"
      },
      "outputs": [],
      "source": [
        "import pandas as pd\n",
        "import numpy as np\n",
        "from fuzzywuzzy import fuzz\n",
        "from sklearn.feature_extraction.text import TfidfVectorizer\n",
        "from sklearn.metrics.pairwise import cosine_similarity\n",
        "import gradio as gr"
      ]
    },
    {
      "cell_type": "code",
      "source": [
        "df = pd.read_csv(\"Metacritic_Reviews_Only.csv\",  error_bad_lines=False, encoding='utf-8')"
      ],
      "metadata": {
        "id": "JIXf6e7icYg8"
      },
      "execution_count": null,
      "outputs": []
    },
    {
      "cell_type": "code",
      "source": [
        "#Remove title from review\n",
        "def remove_title(row):\n",
        "  game_title = row['Game Title']\n",
        "  body_text = row['Reviews']\n",
        "  new_doc = body_text.replace(game_title, \"\")\n",
        "  return new_doc\n",
        "\n",
        "df['Reviews'] = df.apply(remove_title, axis=1)\n",
        "#drop redundant column\n",
        "df = df.drop(['Unnamed: 0'], axis=1)"
      ],
      "metadata": {
        "id": "WCfZNgbXcc7L"
      },
      "execution_count": null,
      "outputs": []
    },
    {
      "cell_type": "code",
      "source": [
        "df.dropna(inplace=True) #Drop Null Reviews"
      ],
      "metadata": {
        "id": "zqKSMYoRce1O"
      },
      "execution_count": null,
      "outputs": []
    },
    {
      "cell_type": "code",
      "source": [
        "# Instantiate the vectorizer object to the vectorizer variable\n",
        "#Minimum word count 2 to be included, words that appear in over 70% of docs should not be included\n",
        "vectorizer = TfidfVectorizer(min_df=2, max_df=0.7)\n",
        "\n",
        "# Fit and transform the plot column\n",
        "vectorized_data = vectorizer.fit_transform(df['Reviews'])"
      ],
      "metadata": {
        "id": "ohSYHEdGciKl"
      },
      "execution_count": null,
      "outputs": []
    },
    {
      "cell_type": "code",
      "source": [
        "# Create Dataframe from TF-IDFarray\n",
        "tfidf_df = pd.DataFrame(vectorized_data.toarray(), columns=vectorizer.get_feature_names())\n",
        "\n",
        "# Assign the game titles to the index\n",
        "tfidf_df.index = df['Game Title']"
      ],
      "metadata": {
        "id": "zYW2aKf1cj8R"
      },
      "execution_count": null,
      "outputs": []
    },
    {
      "cell_type": "code",
      "source": [
        "# Find the cosine similarity measures between all game and assign the results to cosine_similarity_array.\n",
        "cosine_similarity_array = cosine_similarity(tfidf_df)\n",
        "\n",
        "# Create a DataFrame from the cosine_similarity_array with tfidf_df.index as its rows and columns.\n",
        "cosine_similarity_df = pd.DataFrame(cosine_similarity_array, index=tfidf_df.index, columns=tfidf_df.index)"
      ],
      "metadata": {
        "id": "aTZW2odLcnDz"
      },
      "execution_count": null,
      "outputs": []
    },
    {
      "cell_type": "code",
      "source": [
        "# Find the values for the game Batman: Arkham City\n",
        "cosine_similarity_series = cosine_similarity_df.loc['Batman: Arkham City']\n",
        "\n",
        "# Sort these values highest to lowest\n",
        "ordered_similarities = cosine_similarity_series.sort_values(ascending=False)\n",
        "\n",
        "# Print the results\n",
        "print(ordered_similarities)"
      ],
      "metadata": {
        "id": "K2fEFopEcpIT"
      },
      "execution_count": null,
      "outputs": []
    },
    {
      "cell_type": "code",
      "source": [
        "# create a function to find the closest title\n",
        "def matching_score(a,b):\n",
        "  #fuzz.ratio(a,b) calculates the Levenshtein Distance between a and b, and returns the score for the distance\n",
        "   return fuzz.ratio(a,b)\n",
        "   # exactly the same, the score becomes 100\n",
        "\n",
        "#Convert index to title_year\n",
        "def get_title_from_index(index):\n",
        "   return df[df.index == index]['Game Title'].values[0]\n",
        "\n",
        "# A function to return the most similar title to the words a user type\n",
        "# Without this, the recommender only works when a user enters the exact title which the data has.\n",
        "def find_closest_title(title):\n",
        "  #matching_score(a,b) > a is the current row, b is the title we're trying to match\n",
        "   leven_scores = list(enumerate(df['Game Title'].apply(matching_score, b=title))) #[(0, 30), (1,95), (2, 19)~~] A tuple of distances per index\n",
        "   sorted_leven_scores = sorted(leven_scores, key=lambda x: x[1], reverse=True) #Sorts list of tuples by distance [(1, 95), (3, 49), (0, 30)~~]\n",
        "   closest_title = get_title_from_index(sorted_leven_scores[0][0])\n",
        "   distance_score = sorted_leven_scores[0][1]\n",
        "   return closest_title, distance_score\n",
        "   # Bejeweled Twist, 100"
      ],
      "metadata": {
        "id": "Asr2j0lEctHe"
      },
      "execution_count": null,
      "outputs": []
    },
    {
      "cell_type": "code",
      "source": [
        "def find_closest_titles(title):\n",
        "   leven_scores = list(enumerate(df['Game Title'].apply(matching_score, b=title))) #[(0, 30), (1,95), (2, 19)~~] A tuple of distances per index\n",
        "   sorted_leven_scores = sorted(leven_scores, key=lambda x: x[1], reverse=True) #Sorts list of tuples by distance [(1, 95), (3, 49), (0, 30)~~]\n",
        "   closest_titles = [get_title_from_index(sorted_leven_scores[i][0]) for i in range(5)]\n",
        "   distance_scores = [sorted_leven_scores[i][1] for i in range(5)]\n",
        "   return closest_titles, distance_scores\n",
        "   # Bejeweled Twist, 100"
      ],
      "metadata": {
        "id": "kofYPztBcygc"
      },
      "execution_count": null,
      "outputs": []
    },
    {
      "cell_type": "code",
      "source": [
        "def recommend_games_v1(game1, game2, game3, max_results):\n",
        "  #Counter for Ranking\n",
        "  number = 1\n",
        "  print('Recommended because you played {}, {} and {}:\\n'.format(game1, game2, game3))\n",
        "\n",
        "  list_of_games_enjoyed = [game1, game2, game3]\n",
        "  games_enjoyed_df = tfidf_df.reindex(list_of_games_enjoyed)\n",
        "  user_prof = games_enjoyed_df.mean()\n",
        "  \n",
        "  tfidf_subset_df = tfidf_df.drop([game1, game2, game3], axis=0)\n",
        "  similarity_array = cosine_similarity(user_prof.values.reshape(1, -1), tfidf_subset_df)\n",
        "  similarity_df = pd.DataFrame(similarity_array.T, index=tfidf_subset_df.index, columns=[\"similarity_score\"])\n",
        "\n",
        "  # Sort the values from high to low by the values in the similarity_score\n",
        "  sorted_similarity_df = similarity_df.sort_values(by=\"similarity_score\", ascending=False)\n",
        "\n",
        "  number = 0\n",
        "  rank = 1\n",
        "  rank_range = []\n",
        "  name_list = []\n",
        "  score_list = []\n",
        "  for n in sorted_similarity_df.index:\n",
        "    if rank <= max_results:\n",
        "      rank_range.append(rank)\n",
        "      name_list.append(n)\n",
        "      score_list.append(str(round(sorted_similarity_df.iloc[number]['similarity_score']*100,2)) + \"% \") #format score as a percentage\n",
        "      number+=1\n",
        "      rank +=1\n",
        "  #Turn lists into a dictionary\n",
        "  data = {'Rank': rank_range, 'Game Title': name_list, '% Match': score_list}\n",
        "  rec_table = pd.DataFrame.from_dict(data) #Convert dictionary into dataframe\n",
        "  rec_table.set_index('Rank', inplace=True) #Make Rank column the index\n",
        "  return rec_table"
      ],
      "metadata": {
        "id": "RzPHJ72Jc6KM"
      },
      "execution_count": null,
      "outputs": []
    },
    {
      "cell_type": "code",
      "source": [
        "demo = gr.Blocks()\n",
        "\n",
        "with demo:\n",
        "  gr.Markdown(\n",
        "          \"\"\"\n",
        "      # Game Recommendations\n",
        "      Input 3 games you enjoyed playing and use the dropdown to confirm your selections. Hopefully they are registered in the database. Once all 3 have been chosen, please generate your recommendations.\n",
        "      \"\"\"\n",
        "      )\n",
        "  \n",
        "  options = ['Dragonball', 'Batman', 'Tekken']\n",
        "  def Dropdown_list(x):\n",
        "    new_options =  [*options, x + \" Remastered\", x + \": The Remake\", x + \": Game of the Year Edition\", x + \" Steelbook Edition\"]\n",
        "    return gr.Dropdown.update(choices=new_options)\n",
        "\n",
        "  with gr.Column(visible=True):\n",
        "    first_entry = gr.Textbox(label=\"Game Title 1\")\n",
        "    first_dropdown = gr.Dropdown(choices=[], label=\"Closest Matches\")\n",
        "    update_first = gr.Button(\"Match Closest Title 1\")\n",
        "\n",
        "  with gr.Column(visible=True):\n",
        "    second_entry = gr.Textbox(label=\"Game Title 2\")\n",
        "    second_dropdown = gr.Dropdown(label=\"Closest Matches\")\n",
        "    update_second = gr.Button(\"Match Closest Title 2\")\n",
        "\n",
        "  with gr.Column(visible=True):\n",
        "    third_entry = gr.Textbox(label=\"Game Title 3\")\n",
        "    third_dropdown = gr.Dropdown(label=\"Closest Matches\")\n",
        "    update_third = gr.Button(\"Match Closest Title 3\")\n",
        "  \n",
        "  with gr.Row():\n",
        "    slider = gr.Slider(1, 20, step=1)\n",
        "\n",
        "  with gr.Row():\n",
        "    generate = gr.Button(\"Generate\")\n",
        "    results = gr.Dataframe(label=\"Top Results\")\n",
        "\n",
        "  def filter_matches(entry):\n",
        "    top_matches = find_closest_titles(entry)\n",
        "    top_matches = list(top_matches[0])\n",
        "    return gr.Dropdown.update(choices=top_matches) #, gr.update(visible=True)\n",
        "\n",
        "  def new_match(text):\n",
        "    top_match = find_closest_title(text)\n",
        "    return text\n",
        "\n",
        "  first_entry.change(new_match, inputs=first_entry, outputs=first_dropdown)\n",
        "  update_first.click(filter_matches, inputs=first_dropdown, outputs=first_dropdown)\n",
        "  second_entry.change(new_match, inputs=second_entry, outputs=second_dropdown)\n",
        "  update_second.click(filter_matches, inputs=second_dropdown, outputs=second_dropdown)\n",
        "  third_entry.change(new_match, inputs=third_entry, outputs=third_dropdown)\n",
        "  update_third.click(filter_matches, inputs=third_dropdown, outputs=third_dropdown)\n",
        "\n",
        "  \n",
        "  generate.click(recommend_games_v1, inputs=[first_dropdown, second_dropdown, third_dropdown, slider], outputs=results)\n",
        "demo.launch()"
      ],
      "metadata": {
        "id": "dBQIiSxMdHhW"
      },
      "execution_count": null,
      "outputs": []
    }
  ]
}