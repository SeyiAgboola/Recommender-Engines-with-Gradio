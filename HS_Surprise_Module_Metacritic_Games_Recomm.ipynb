{
  "nbformat": 4,
  "nbformat_minor": 0,
  "metadata": {
    "colab": {
      "name": "HS_Surprise Module_Metacritic_Games_Recomm.ipynb",
      "provenance": [],
      "collapsed_sections": [
        "xkU-Z9oxVSnc"
      ]
    },
    "kernelspec": {
      "name": "python3",
      "display_name": "Python 3"
    },
    "language_info": {
      "name": "python"
    }
  },
  "cells": [
    {
      "cell_type": "code",
      "source": [
        "!pip install surprise"
      ],
      "metadata": {
        "id": "Aatb42BhUTO-"
      },
      "execution_count": null,
      "outputs": []
    },
    {
      "cell_type": "code",
      "source": [
        "from surprise import NMF, SVD, SVDpp, KNNBasic, KNNWithMeans, KNNWithZScore, CoClustering\n",
        "from surprise.model_selection import cross_validate\n",
        "from surprise import Reader, Dataset"
      ],
      "metadata": {
        "id": "PiP1ocwWUWVP"
      },
      "execution_count": 2,
      "outputs": []
    },
    {
      "cell_type": "code",
      "source": [
        "!pip install gradio"
      ],
      "metadata": {
        "id": "GHR06jLIUW_x"
      },
      "execution_count": null,
      "outputs": []
    },
    {
      "cell_type": "code",
      "source": [
        "import gradio as gr"
      ],
      "metadata": {
        "id": "4grtKd3NUZUj"
      },
      "execution_count": 4,
      "outputs": []
    },
    {
      "cell_type": "code",
      "metadata": {
        "id": "A4xqp7I3UQYe"
      },
      "source": [
        "import pandas as pd\n",
        "import numpy as np\n",
        "import scipy as sp\n",
        "from scipy import sparse\n",
        "from datetime import datetime"
      ],
      "execution_count": 6,
      "outputs": []
    },
    {
      "cell_type": "code",
      "source": [
        "df = pd.read_csv(\"/content/metacritic_critic_reviews.csv\", on_bad_lines='skip', encoding=\"utf-8\")\n",
        "df.dropna(inplace=True)\n",
        "df.head()"
      ],
      "metadata": {
        "colab": {
          "base_uri": "https://localhost:8080/",
          "height": 206
        },
        "id": "LC8EQprdIXDt",
        "outputId": "45f6b392-634c-4659-d1b4-3043440059a7"
      },
      "execution_count": 7,
      "outputs": [
        {
          "output_type": "execute_result",
          "data": {
            "text/html": [
              "\n",
              "  <div id=\"df-0455166d-4760-4635-9bb7-8a953b330795\">\n",
              "    <div class=\"colab-df-container\">\n",
              "      <div>\n",
              "<style scoped>\n",
              "    .dataframe tbody tr th:only-of-type {\n",
              "        vertical-align: middle;\n",
              "    }\n",
              "\n",
              "    .dataframe tbody tr th {\n",
              "        vertical-align: top;\n",
              "    }\n",
              "\n",
              "    .dataframe thead th {\n",
              "        text-align: right;\n",
              "    }\n",
              "</style>\n",
              "<table border=\"1\" class=\"dataframe\">\n",
              "  <thead>\n",
              "    <tr style=\"text-align: right;\">\n",
              "      <th></th>\n",
              "      <th>name</th>\n",
              "      <th>review</th>\n",
              "      <th>game</th>\n",
              "      <th>platform</th>\n",
              "      <th>score</th>\n",
              "      <th>date</th>\n",
              "    </tr>\n",
              "  </thead>\n",
              "  <tbody>\n",
              "    <tr>\n",
              "      <th>0</th>\n",
              "      <td>LEVEL (Czech Republic)</td>\n",
              "      <td>Portal 2 is a masterpiece, a work of art that ...</td>\n",
              "      <td>Portal 2</td>\n",
              "      <td>PC</td>\n",
              "      <td>100.0</td>\n",
              "      <td>May 25, 2011</td>\n",
              "    </tr>\n",
              "    <tr>\n",
              "      <th>1</th>\n",
              "      <td>GameCritics</td>\n",
              "      <td>So do we need Portal 2? Do I need it? Maybe no...</td>\n",
              "      <td>Portal 2</td>\n",
              "      <td>PC</td>\n",
              "      <td>100.0</td>\n",
              "      <td>May  8, 2011</td>\n",
              "    </tr>\n",
              "    <tr>\n",
              "      <th>2</th>\n",
              "      <td>PC Games (Russia)</td>\n",
              "      <td>Portal 2 exceeds every expectation. It has a s...</td>\n",
              "      <td>Portal 2</td>\n",
              "      <td>PC</td>\n",
              "      <td>100.0</td>\n",
              "      <td>May  6, 2011</td>\n",
              "    </tr>\n",
              "    <tr>\n",
              "      <th>3</th>\n",
              "      <td>Adventure Gamers</td>\n",
              "      <td>Like its predecessor, Portal 2 is not an adven...</td>\n",
              "      <td>Portal 2</td>\n",
              "      <td>PC</td>\n",
              "      <td>100.0</td>\n",
              "      <td>Apr 29, 2011</td>\n",
              "    </tr>\n",
              "    <tr>\n",
              "      <th>4</th>\n",
              "      <td>Armchair Empire</td>\n",
              "      <td>Pile on the \"Oh, yes!\" moments of solving some...</td>\n",
              "      <td>Portal 2</td>\n",
              "      <td>PC</td>\n",
              "      <td>100.0</td>\n",
              "      <td>Apr 28, 2011</td>\n",
              "    </tr>\n",
              "  </tbody>\n",
              "</table>\n",
              "</div>\n",
              "      <button class=\"colab-df-convert\" onclick=\"convertToInteractive('df-0455166d-4760-4635-9bb7-8a953b330795')\"\n",
              "              title=\"Convert this dataframe to an interactive table.\"\n",
              "              style=\"display:none;\">\n",
              "        \n",
              "  <svg xmlns=\"http://www.w3.org/2000/svg\" height=\"24px\"viewBox=\"0 0 24 24\"\n",
              "       width=\"24px\">\n",
              "    <path d=\"M0 0h24v24H0V0z\" fill=\"none\"/>\n",
              "    <path d=\"M18.56 5.44l.94 2.06.94-2.06 2.06-.94-2.06-.94-.94-2.06-.94 2.06-2.06.94zm-11 1L8.5 8.5l.94-2.06 2.06-.94-2.06-.94L8.5 2.5l-.94 2.06-2.06.94zm10 10l.94 2.06.94-2.06 2.06-.94-2.06-.94-.94-2.06-.94 2.06-2.06.94z\"/><path d=\"M17.41 7.96l-1.37-1.37c-.4-.4-.92-.59-1.43-.59-.52 0-1.04.2-1.43.59L10.3 9.45l-7.72 7.72c-.78.78-.78 2.05 0 2.83L4 21.41c.39.39.9.59 1.41.59.51 0 1.02-.2 1.41-.59l7.78-7.78 2.81-2.81c.8-.78.8-2.07 0-2.86zM5.41 20L4 18.59l7.72-7.72 1.47 1.35L5.41 20z\"/>\n",
              "  </svg>\n",
              "      </button>\n",
              "      \n",
              "  <style>\n",
              "    .colab-df-container {\n",
              "      display:flex;\n",
              "      flex-wrap:wrap;\n",
              "      gap: 12px;\n",
              "    }\n",
              "\n",
              "    .colab-df-convert {\n",
              "      background-color: #E8F0FE;\n",
              "      border: none;\n",
              "      border-radius: 50%;\n",
              "      cursor: pointer;\n",
              "      display: none;\n",
              "      fill: #1967D2;\n",
              "      height: 32px;\n",
              "      padding: 0 0 0 0;\n",
              "      width: 32px;\n",
              "    }\n",
              "\n",
              "    .colab-df-convert:hover {\n",
              "      background-color: #E2EBFA;\n",
              "      box-shadow: 0px 1px 2px rgba(60, 64, 67, 0.3), 0px 1px 3px 1px rgba(60, 64, 67, 0.15);\n",
              "      fill: #174EA6;\n",
              "    }\n",
              "\n",
              "    [theme=dark] .colab-df-convert {\n",
              "      background-color: #3B4455;\n",
              "      fill: #D2E3FC;\n",
              "    }\n",
              "\n",
              "    [theme=dark] .colab-df-convert:hover {\n",
              "      background-color: #434B5C;\n",
              "      box-shadow: 0px 1px 3px 1px rgba(0, 0, 0, 0.15);\n",
              "      filter: drop-shadow(0px 1px 2px rgba(0, 0, 0, 0.3));\n",
              "      fill: #FFFFFF;\n",
              "    }\n",
              "  </style>\n",
              "\n",
              "      <script>\n",
              "        const buttonEl =\n",
              "          document.querySelector('#df-0455166d-4760-4635-9bb7-8a953b330795 button.colab-df-convert');\n",
              "        buttonEl.style.display =\n",
              "          google.colab.kernel.accessAllowed ? 'block' : 'none';\n",
              "\n",
              "        async function convertToInteractive(key) {\n",
              "          const element = document.querySelector('#df-0455166d-4760-4635-9bb7-8a953b330795');\n",
              "          const dataTable =\n",
              "            await google.colab.kernel.invokeFunction('convertToInteractive',\n",
              "                                                     [key], {});\n",
              "          if (!dataTable) return;\n",
              "\n",
              "          const docLinkHtml = 'Like what you see? Visit the ' +\n",
              "            '<a target=\"_blank\" href=https://colab.research.google.com/notebooks/data_table.ipynb>data table notebook</a>'\n",
              "            + ' to learn more about interactive tables.';\n",
              "          element.innerHTML = '';\n",
              "          dataTable['output_type'] = 'display_data';\n",
              "          await google.colab.output.renderOutput(dataTable, element);\n",
              "          const docLink = document.createElement('div');\n",
              "          docLink.innerHTML = docLinkHtml;\n",
              "          element.appendChild(docLink);\n",
              "        }\n",
              "      </script>\n",
              "    </div>\n",
              "  </div>\n",
              "  "
            ],
            "text/plain": [
              "                     name  ...          date\n",
              "0  LEVEL (Czech Republic)  ...  May 25, 2011\n",
              "1             GameCritics  ...  May  8, 2011\n",
              "2       PC Games (Russia)  ...  May  6, 2011\n",
              "3        Adventure Gamers  ...  Apr 29, 2011\n",
              "4         Armchair Empire  ...  Apr 28, 2011\n",
              "\n",
              "[5 rows x 6 columns]"
            ]
          },
          "metadata": {},
          "execution_count": 7
        }
      ]
    },
    {
      "cell_type": "code",
      "source": [
        "#Create date column by converting the date into a datetime object then returning only the year\n",
        "def add_year(full_date):\n",
        "  datetime_object = datetime.strptime(full_date, '%b %d, %Y')\n",
        "  return datetime_object.year\n",
        "\n",
        "df['year'] = df['date'].apply(add_year)\n",
        "#Add the year in brackets to the name of the game to avoid confusion \n",
        "def year_game(row):\n",
        "  calendar_year = str(row['year'])\n",
        "  year_game_combined = str(row['game']) + \" (\" + calendar_year + \")\"\n",
        "  return year_game_combined\n",
        "\n",
        "df['game'] = df.apply(year_game, axis=1)"
      ],
      "metadata": {
        "id": "lRSQAZHJSCGW"
      },
      "execution_count": 8,
      "outputs": []
    },
    {
      "cell_type": "code",
      "source": [
        "#['PC', '3DS', 'PlayStation Vita', 'Wii U', 'PlayStation 4','Xbox One', 'Switch']\n",
        "df = df[df['platform'] == 'PlayStation 4']"
      ],
      "metadata": {
        "id": "W5F17My7TuGH"
      },
      "execution_count": 9,
      "outputs": []
    },
    {
      "cell_type": "code",
      "source": [
        "#Filter by games since 2015 onwards\n",
        "over_2015 = df[df['year'] >= 2015]"
      ],
      "metadata": {
        "id": "DNpjxxFvuNmM"
      },
      "execution_count": 10,
      "outputs": []
    },
    {
      "cell_type": "code",
      "source": [
        "#Group by average score then sort by descending\n",
        "top_recent_scorers = over_2015.groupby('game')['score'].mean().sort_values(ascending=False)\n",
        "#Only show top 20 games\n",
        "top_40_games = top_recent_scorers.index[:40]\n",
        "#top_100_games = top_recent_scorers.index[:100]"
      ],
      "metadata": {
        "id": "YvZoXNnHx0p2"
      },
      "execution_count": 11,
      "outputs": []
    },
    {
      "cell_type": "code",
      "source": [
        "combined_games_data = df[['game','name','score']]\n",
        "algorithms = [NMF(), SVD(), SVDpp(), KNNWithZScore(), CoClustering()]\n",
        "\n",
        "def recommender(user_prof, user_algo=KNNWithZScore(), combined_games_data=combined_games_data): # top_100_games=top_100_games, \n",
        "\n",
        "  my_ratings = user_prof[user_prof['score'] != 0]\n",
        "  combined_games_data = pd.concat([combined_games_data, my_ratings], axis=0)\n",
        "  combined_games_data.columns = ['itemID', 'userID', 'rating']\n",
        "\n",
        "  # use the transform method group by userID and count to keep the games with more than reviews within user profile. Ideally 20 or more.\n",
        "  combined_games_data['reviews'] = combined_games_data.groupby(['itemID'])['rating'].transform('count')\n",
        "  combined_games_data = combined_games_data[combined_games_data.reviews>=my_ratings.shape[0]][['userID', 'itemID', 'rating']]\n",
        "\n",
        "  reader = Reader(rating_scale=(1.0, 100.0))\n",
        "  data = Dataset.load_from_df(combined_games_data, reader)\n",
        "\n",
        "  unique_ids = combined_games_data['itemID'].unique()\n",
        "\n",
        "  iids1001 = combined_games_data.loc[combined_games_data['userID']==1001, 'itemID']\n",
        "\n",
        "  games_to_predict = np.setdiff1d(unique_ids,iids1001)\n",
        "\n",
        "  for i in range(len(algorithms)):\n",
        "    if i == 'NMF':\n",
        "      user_algo = NMF()\n",
        "    elif i == 'SVD':\n",
        "      user_algo = SVD()\n",
        "    elif i == 'SVDpp':\n",
        "      user_algo = SVDpp()\n",
        "    elif i == 'KNN':\n",
        "      user_algo = KNNWithZScore()\n",
        "    elif i == 'CoClustering':\n",
        "      user_algo = CoClustering()\n",
        "    else:\n",
        "      user_algo = NMF()\n",
        "\n",
        "  algo = user_algo\n",
        "  algo.fit(data.build_full_trainset())\n",
        "\n",
        "  my_recs = []\n",
        "  for iid in games_to_predict:\n",
        "      my_recs.append((iid, algo.predict(uid=1001,iid=iid).est))\n",
        "      \n",
        "  result = pd.DataFrame(my_recs, columns=['iid', 'predictions']).sort_values('predictions', ascending=False).head(10)\n",
        "  return result\n",
        "\n",
        "default_entries = []\n",
        "for record in range(len(top_40_games)):\n",
        "  default_entries.append([top_40_games[record], 1001, 0])\n",
        "\n",
        "iface = gr.Interface(recommender, \n",
        "    inputs=[gr.inputs.Dataframe(\n",
        "        headers=['game','name','score'],\n",
        "        default=default_entries\n",
        "    ), \n",
        "    gr.inputs.Radio(['NMF', 'SVD', 'SVDpp', 'KNN', 'CoClustering'])],\n",
        "    outputs=\"dataframe\",\n",
        ")\n",
        "iface.launch(debug=True)"
      ],
      "metadata": {
        "id": "dC3mQi80k9j6"
      },
      "execution_count": null,
      "outputs": []
    }
  ]
}