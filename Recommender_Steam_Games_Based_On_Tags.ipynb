{
  "nbformat": 4,
  "nbformat_minor": 0,
  "metadata": {
    "colab": {
      "name": "Recommender Steam Games Based On Tags.ipynb",
      "provenance": []
    },
    "kernelspec": {
      "name": "python3",
      "display_name": "Python 3"
    },
    "language_info": {
      "name": "python"
    }
  },
  "cells": [
    {
      "cell_type": "markdown",
      "metadata": {
        "id": "s_EhuMHu6uhF"
      },
      "source": [
        "# Introduction\n",
        "\n",
        "Purpose of this notebook is to will go through how you can quickly build a recommendation engine based on Steam dataset with video games ratings data. I won't add [a big introduction into what recommendation engines are](https://datacamp.pxf.io/ORz0Or). I assume you know what they are and why you want to build one. \n",
        "\n",
        "This notebook is set up to deliver a Gradio interface based on a manual input where you can ask it to recommend a list of 10 games based on your input.\n",
        "\n",
        "Dataset: [Steam Games on Kaggle](https://www.kaggle.com/nikdavis/steam-store-games?select=steam.csv)\n",
        "\n",
        "Model: Cosine Similarity\n",
        "\n",
        "Sources & References\n",
        "\n",
        "* Weighted Rating methodology from [Anime Recommendation System](https://www.kaggle.com/seyi92coding/anime-recommendation-system#Weighted-Rating).\n",
        "* Recommender Engine adapted from [geekculture on medium](https://medium.com/geekculture/creating-content-based-movie-recommender-with-python-7f7d1b739c63)\n",
        "* Analysis based on Nik's [Steam Data Exploration](https://nik-davis.github.io/posts/2019/steam-data-exploration/)\n",
        "\n",
        "\n",
        "\n",
        "\n"
      ]
    },
    {
      "cell_type": "markdown",
      "metadata": {
        "id": "wn8p2Zp5k0jf"
      },
      "source": [
        "# Import Modules"
      ]
    },
    {
      "cell_type": "code",
      "metadata": {
        "id": "Kr8cemxFxkqW"
      },
      "source": [
        "import pandas as pd\n",
        "import numpy as np\n",
        "import re\n",
        "import itertools\n",
        "import matplotlib.pyplot as plt"
      ],
      "execution_count": 1,
      "outputs": []
    },
    {
      "cell_type": "markdown",
      "metadata": {
        "id": "tWo5plwIk_hR"
      },
      "source": [
        "# Upload your Dataset\n",
        "\n",
        "We will using the Steam's dataset from Kaggle containing important information such as number of ratings each game received, what platform the games are on and release date.\n",
        "\n",
        "The dataset includes a lot of features we won't use in this notebook but the most important ones are:\n",
        "\n",
        "* appid - Unique Identifier of each item\n",
        "* name - User-friendly Identifier\n",
        "* release_date\n",
        "* platforms\n",
        "* genres\n",
        "* steamspy_tags\n",
        "* positive ratings/ total_ratings\n"
      ]
    },
    {
      "cell_type": "code",
      "metadata": {
        "id": "N2UFJKPDlF21",
        "colab": {
          "base_uri": "https://localhost:8080/",
          "height": 0
        },
        "outputId": "1319951e-f151-43c3-c2a0-02d8f156c37a"
      },
      "source": [
        "filename = \"/content/steam-clean-games.csv\"\n",
        "\n",
        "df = pd.read_csv(filename,  error_bad_lines=False, encoding='utf-8') \n",
        "\n",
        "#These are just quick checks to make sure the dataset looks correct\n",
        "print(df.shape)\n",
        "df.head()"
      ],
      "execution_count": 2,
      "outputs": [
        {
          "output_type": "stream",
          "name": "stdout",
          "text": [
            "(27075, 18)\n"
          ]
        },
        {
          "output_type": "execute_result",
          "data": {
            "text/html": [
              "\n",
              "  <div id=\"df-2aca6fad-ba04-4c71-a9de-0744ebf64cac\">\n",
              "    <div class=\"colab-df-container\">\n",
              "      <div>\n",
              "<style scoped>\n",
              "    .dataframe tbody tr th:only-of-type {\n",
              "        vertical-align: middle;\n",
              "    }\n",
              "\n",
              "    .dataframe tbody tr th {\n",
              "        vertical-align: top;\n",
              "    }\n",
              "\n",
              "    .dataframe thead th {\n",
              "        text-align: right;\n",
              "    }\n",
              "</style>\n",
              "<table border=\"1\" class=\"dataframe\">\n",
              "  <thead>\n",
              "    <tr style=\"text-align: right;\">\n",
              "      <th></th>\n",
              "      <th>appid</th>\n",
              "      <th>name</th>\n",
              "      <th>release_date</th>\n",
              "      <th>english</th>\n",
              "      <th>developer</th>\n",
              "      <th>publisher</th>\n",
              "      <th>platforms</th>\n",
              "      <th>required_age</th>\n",
              "      <th>categories</th>\n",
              "      <th>genres</th>\n",
              "      <th>steamspy_tags</th>\n",
              "      <th>achievements</th>\n",
              "      <th>positive_ratings</th>\n",
              "      <th>negative_ratings</th>\n",
              "      <th>average_playtime</th>\n",
              "      <th>median_playtime</th>\n",
              "      <th>owners</th>\n",
              "      <th>price</th>\n",
              "    </tr>\n",
              "  </thead>\n",
              "  <tbody>\n",
              "    <tr>\n",
              "      <th>0</th>\n",
              "      <td>10</td>\n",
              "      <td>Counter-Strike</td>\n",
              "      <td>2000-11-01</td>\n",
              "      <td>1</td>\n",
              "      <td>Valve</td>\n",
              "      <td>Valve</td>\n",
              "      <td>windows;mac;linux</td>\n",
              "      <td>0</td>\n",
              "      <td>Multi-player;Online Multi-Player;Local Multi-P...</td>\n",
              "      <td>Action</td>\n",
              "      <td>Action;FPS;Multiplayer</td>\n",
              "      <td>0</td>\n",
              "      <td>124534</td>\n",
              "      <td>3339</td>\n",
              "      <td>17612</td>\n",
              "      <td>317</td>\n",
              "      <td>10000000-20000000</td>\n",
              "      <td>7.19</td>\n",
              "    </tr>\n",
              "    <tr>\n",
              "      <th>1</th>\n",
              "      <td>20</td>\n",
              "      <td>Team Fortress Classic</td>\n",
              "      <td>1999-04-01</td>\n",
              "      <td>1</td>\n",
              "      <td>Valve</td>\n",
              "      <td>Valve</td>\n",
              "      <td>windows;mac;linux</td>\n",
              "      <td>0</td>\n",
              "      <td>Multi-player;Online Multi-Player;Local Multi-P...</td>\n",
              "      <td>Action</td>\n",
              "      <td>Action;FPS;Multiplayer</td>\n",
              "      <td>0</td>\n",
              "      <td>3318</td>\n",
              "      <td>633</td>\n",
              "      <td>277</td>\n",
              "      <td>62</td>\n",
              "      <td>5000000-10000000</td>\n",
              "      <td>3.99</td>\n",
              "    </tr>\n",
              "    <tr>\n",
              "      <th>2</th>\n",
              "      <td>30</td>\n",
              "      <td>Day of Defeat</td>\n",
              "      <td>2003-05-01</td>\n",
              "      <td>1</td>\n",
              "      <td>Valve</td>\n",
              "      <td>Valve</td>\n",
              "      <td>windows;mac;linux</td>\n",
              "      <td>0</td>\n",
              "      <td>Multi-player;Valve Anti-Cheat enabled</td>\n",
              "      <td>Action</td>\n",
              "      <td>FPS;World War II;Multiplayer</td>\n",
              "      <td>0</td>\n",
              "      <td>3416</td>\n",
              "      <td>398</td>\n",
              "      <td>187</td>\n",
              "      <td>34</td>\n",
              "      <td>5000000-10000000</td>\n",
              "      <td>3.99</td>\n",
              "    </tr>\n",
              "    <tr>\n",
              "      <th>3</th>\n",
              "      <td>40</td>\n",
              "      <td>Deathmatch Classic</td>\n",
              "      <td>2001-06-01</td>\n",
              "      <td>1</td>\n",
              "      <td>Valve</td>\n",
              "      <td>Valve</td>\n",
              "      <td>windows;mac;linux</td>\n",
              "      <td>0</td>\n",
              "      <td>Multi-player;Online Multi-Player;Local Multi-P...</td>\n",
              "      <td>Action</td>\n",
              "      <td>Action;FPS;Multiplayer</td>\n",
              "      <td>0</td>\n",
              "      <td>1273</td>\n",
              "      <td>267</td>\n",
              "      <td>258</td>\n",
              "      <td>184</td>\n",
              "      <td>5000000-10000000</td>\n",
              "      <td>3.99</td>\n",
              "    </tr>\n",
              "    <tr>\n",
              "      <th>4</th>\n",
              "      <td>50</td>\n",
              "      <td>Half-Life: Opposing Force</td>\n",
              "      <td>1999-11-01</td>\n",
              "      <td>1</td>\n",
              "      <td>Gearbox Software</td>\n",
              "      <td>Valve</td>\n",
              "      <td>windows;mac;linux</td>\n",
              "      <td>0</td>\n",
              "      <td>Single-player;Multi-player;Valve Anti-Cheat en...</td>\n",
              "      <td>Action</td>\n",
              "      <td>FPS;Action;Sci-fi</td>\n",
              "      <td>0</td>\n",
              "      <td>5250</td>\n",
              "      <td>288</td>\n",
              "      <td>624</td>\n",
              "      <td>415</td>\n",
              "      <td>5000000-10000000</td>\n",
              "      <td>3.99</td>\n",
              "    </tr>\n",
              "  </tbody>\n",
              "</table>\n",
              "</div>\n",
              "      <button class=\"colab-df-convert\" onclick=\"convertToInteractive('df-2aca6fad-ba04-4c71-a9de-0744ebf64cac')\"\n",
              "              title=\"Convert this dataframe to an interactive table.\"\n",
              "              style=\"display:none;\">\n",
              "        \n",
              "  <svg xmlns=\"http://www.w3.org/2000/svg\" height=\"24px\"viewBox=\"0 0 24 24\"\n",
              "       width=\"24px\">\n",
              "    <path d=\"M0 0h24v24H0V0z\" fill=\"none\"/>\n",
              "    <path d=\"M18.56 5.44l.94 2.06.94-2.06 2.06-.94-2.06-.94-.94-2.06-.94 2.06-2.06.94zm-11 1L8.5 8.5l.94-2.06 2.06-.94-2.06-.94L8.5 2.5l-.94 2.06-2.06.94zm10 10l.94 2.06.94-2.06 2.06-.94-2.06-.94-.94-2.06-.94 2.06-2.06.94z\"/><path d=\"M17.41 7.96l-1.37-1.37c-.4-.4-.92-.59-1.43-.59-.52 0-1.04.2-1.43.59L10.3 9.45l-7.72 7.72c-.78.78-.78 2.05 0 2.83L4 21.41c.39.39.9.59 1.41.59.51 0 1.02-.2 1.41-.59l7.78-7.78 2.81-2.81c.8-.78.8-2.07 0-2.86zM5.41 20L4 18.59l7.72-7.72 1.47 1.35L5.41 20z\"/>\n",
              "  </svg>\n",
              "      </button>\n",
              "      \n",
              "  <style>\n",
              "    .colab-df-container {\n",
              "      display:flex;\n",
              "      flex-wrap:wrap;\n",
              "      gap: 12px;\n",
              "    }\n",
              "\n",
              "    .colab-df-convert {\n",
              "      background-color: #E8F0FE;\n",
              "      border: none;\n",
              "      border-radius: 50%;\n",
              "      cursor: pointer;\n",
              "      display: none;\n",
              "      fill: #1967D2;\n",
              "      height: 32px;\n",
              "      padding: 0 0 0 0;\n",
              "      width: 32px;\n",
              "    }\n",
              "\n",
              "    .colab-df-convert:hover {\n",
              "      background-color: #E2EBFA;\n",
              "      box-shadow: 0px 1px 2px rgba(60, 64, 67, 0.3), 0px 1px 3px 1px rgba(60, 64, 67, 0.15);\n",
              "      fill: #174EA6;\n",
              "    }\n",
              "\n",
              "    [theme=dark] .colab-df-convert {\n",
              "      background-color: #3B4455;\n",
              "      fill: #D2E3FC;\n",
              "    }\n",
              "\n",
              "    [theme=dark] .colab-df-convert:hover {\n",
              "      background-color: #434B5C;\n",
              "      box-shadow: 0px 1px 3px 1px rgba(0, 0, 0, 0.15);\n",
              "      filter: drop-shadow(0px 1px 2px rgba(0, 0, 0, 0.3));\n",
              "      fill: #FFFFFF;\n",
              "    }\n",
              "  </style>\n",
              "\n",
              "      <script>\n",
              "        const buttonEl =\n",
              "          document.querySelector('#df-2aca6fad-ba04-4c71-a9de-0744ebf64cac button.colab-df-convert');\n",
              "        buttonEl.style.display =\n",
              "          google.colab.kernel.accessAllowed ? 'block' : 'none';\n",
              "\n",
              "        async function convertToInteractive(key) {\n",
              "          const element = document.querySelector('#df-2aca6fad-ba04-4c71-a9de-0744ebf64cac');\n",
              "          const dataTable =\n",
              "            await google.colab.kernel.invokeFunction('convertToInteractive',\n",
              "                                                     [key], {});\n",
              "          if (!dataTable) return;\n",
              "\n",
              "          const docLinkHtml = 'Like what you see? Visit the ' +\n",
              "            '<a target=\"_blank\" href=https://colab.research.google.com/notebooks/data_table.ipynb>data table notebook</a>'\n",
              "            + ' to learn more about interactive tables.';\n",
              "          element.innerHTML = '';\n",
              "          dataTable['output_type'] = 'display_data';\n",
              "          await google.colab.output.renderOutput(dataTable, element);\n",
              "          const docLink = document.createElement('div');\n",
              "          docLink.innerHTML = docLinkHtml;\n",
              "          element.appendChild(docLink);\n",
              "        }\n",
              "      </script>\n",
              "    </div>\n",
              "  </div>\n",
              "  "
            ],
            "text/plain": [
              "   appid                       name  ...             owners  price\n",
              "0     10             Counter-Strike  ...  10000000-20000000   7.19\n",
              "1     20      Team Fortress Classic  ...   5000000-10000000   3.99\n",
              "2     30              Day of Defeat  ...   5000000-10000000   3.99\n",
              "3     40         Deathmatch Classic  ...   5000000-10000000   3.99\n",
              "4     50  Half-Life: Opposing Force  ...   5000000-10000000   3.99\n",
              "\n",
              "[5 rows x 18 columns]"
            ]
          },
          "metadata": {},
          "execution_count": 2
        }
      ]
    },
    {
      "cell_type": "markdown",
      "metadata": {
        "id": "RK8xOUACrnyn"
      },
      "source": [
        "# Cleaning and Missing Values\n",
        "\n",
        "Normally this section would be must bigger depending on how much noise is in the data but the data is already been cleaned.\n",
        "The aim here is  to ensure the data absent of null values with the correct columns making it suitable for further manipulation.\n",
        "\n",
        "This includes:     \n",
        "* Reviewing column names\n",
        "* Checking for null values\n",
        "\n"
      ]
    },
    {
      "cell_type": "code",
      "metadata": {
        "colab": {
          "base_uri": "https://localhost:8080/"
        },
        "id": "K0NGpt9Knb14",
        "outputId": "0d50574d-0a22-40b7-e04b-56b77cdab014"
      },
      "source": [
        "df.columns"
      ],
      "execution_count": 3,
      "outputs": [
        {
          "output_type": "execute_result",
          "data": {
            "text/plain": [
              "Index(['appid', 'name', 'release_date', 'english', 'developer', 'publisher',\n",
              "       'platforms', 'required_age', 'categories', 'genres', 'steamspy_tags',\n",
              "       'achievements', 'positive_ratings', 'negative_ratings',\n",
              "       'average_playtime', 'median_playtime', 'owners', 'price'],\n",
              "      dtype='object')"
            ]
          },
          "metadata": {},
          "execution_count": 3
        }
      ]
    },
    {
      "cell_type": "code",
      "metadata": {
        "colab": {
          "base_uri": "https://localhost:8080/"
        },
        "id": "Hq3FhDkmkd4E",
        "outputId": "b247fc48-2761-4efb-e002-a212809d6364"
      },
      "source": [
        "#Which columns have null values?\n",
        "print(df.columns[df.isna().any()].tolist())\n",
        "\n",
        "#How many null values per column? - Count the missing values in each column\n",
        "df.isnull().sum()"
      ],
      "execution_count": 4,
      "outputs": [
        {
          "output_type": "stream",
          "name": "stdout",
          "text": [
            "[]\n"
          ]
        },
        {
          "output_type": "execute_result",
          "data": {
            "text/plain": [
              "appid               0\n",
              "name                0\n",
              "release_date        0\n",
              "english             0\n",
              "developer           0\n",
              "publisher           0\n",
              "platforms           0\n",
              "required_age        0\n",
              "categories          0\n",
              "genres              0\n",
              "steamspy_tags       0\n",
              "achievements        0\n",
              "positive_ratings    0\n",
              "negative_ratings    0\n",
              "average_playtime    0\n",
              "median_playtime     0\n",
              "owners              0\n",
              "price               0\n",
              "dtype: int64"
            ]
          },
          "metadata": {},
          "execution_count": 4
        }
      ]
    },
    {
      "cell_type": "markdown",
      "metadata": {
        "id": "qwyZX5_JvMlP"
      },
      "source": [
        "# Engineering New Data\n",
        "\n",
        "There's new data we would like to add to enhance our dataset. This will hopefully enhance our recommendations.\n",
        "\n",
        "You can enhance your datasets by create new categories and values based on the features within the dataset. This is how you can get more value out of your data and tailor it to the objective at hand.\n",
        "\n",
        "Firstly, we need a column for the release year. Then we need some sort of scoring system which we can extrapolate from the ratings columns.\n",
        "\n",
        "The equation we're building here is based on the Weighted Ratings formula from [Anime Recommmendation Kaggle tutorial](https://www.kaggle.com/seyi92coding/anime-recommendation-system#Weighted-Rating), you might have also seen it used [in a DataCamp tutorial](https://datacamp.pxf.io/ORz0Or). \n",
        "Hence why we are calculating the mean and upper quantile based on the score and total_ratings column.\n",
        "\n",
        "I would say the weighted_score column would be more accurate than the score column since it's based on how all the other games are rated within the dataset.\n",
        "\n",
        "And finally the genres column. \n",
        "The genres column contains the data we will use to compare games based on keywords. First we have to format the text correctly so it can be interpreted by the [TF-IDF vectorizer](https://datacamp.pxf.io/5bKEy3) further down.\n",
        "\n"
      ]
    },
    {
      "cell_type": "code",
      "metadata": {
        "colab": {
          "base_uri": "https://localhost:8080/",
          "height": 600
        },
        "id": "xGnlz-_kp70c",
        "outputId": "b0cc424c-e5d7-4103-976c-7371591ab492"
      },
      "source": [
        "# the function to extract years\n",
        "def extract_year(date):\n",
        "   year = date[:4]\n",
        "   # some games do not have the info about year in the column title. So, we should take care of the case as well.\n",
        "   if year.isnumeric():\n",
        "      return int(year)\n",
        "   else:\n",
        "      return np.nan\n",
        "\n",
        "df['year'] = df['release_date'].apply(extract_year)\n",
        "df.head()"
      ],
      "execution_count": 5,
      "outputs": [
        {
          "output_type": "execute_result",
          "data": {
            "text/html": [
              "\n",
              "  <div id=\"df-9fd8d4ac-6c43-43e6-8ffe-89e1a7606df5\">\n",
              "    <div class=\"colab-df-container\">\n",
              "      <div>\n",
              "<style scoped>\n",
              "    .dataframe tbody tr th:only-of-type {\n",
              "        vertical-align: middle;\n",
              "    }\n",
              "\n",
              "    .dataframe tbody tr th {\n",
              "        vertical-align: top;\n",
              "    }\n",
              "\n",
              "    .dataframe thead th {\n",
              "        text-align: right;\n",
              "    }\n",
              "</style>\n",
              "<table border=\"1\" class=\"dataframe\">\n",
              "  <thead>\n",
              "    <tr style=\"text-align: right;\">\n",
              "      <th></th>\n",
              "      <th>appid</th>\n",
              "      <th>name</th>\n",
              "      <th>release_date</th>\n",
              "      <th>english</th>\n",
              "      <th>developer</th>\n",
              "      <th>publisher</th>\n",
              "      <th>platforms</th>\n",
              "      <th>required_age</th>\n",
              "      <th>categories</th>\n",
              "      <th>genres</th>\n",
              "      <th>steamspy_tags</th>\n",
              "      <th>achievements</th>\n",
              "      <th>positive_ratings</th>\n",
              "      <th>negative_ratings</th>\n",
              "      <th>average_playtime</th>\n",
              "      <th>median_playtime</th>\n",
              "      <th>owners</th>\n",
              "      <th>price</th>\n",
              "      <th>year</th>\n",
              "    </tr>\n",
              "  </thead>\n",
              "  <tbody>\n",
              "    <tr>\n",
              "      <th>0</th>\n",
              "      <td>10</td>\n",
              "      <td>Counter-Strike</td>\n",
              "      <td>2000-11-01</td>\n",
              "      <td>1</td>\n",
              "      <td>Valve</td>\n",
              "      <td>Valve</td>\n",
              "      <td>windows;mac;linux</td>\n",
              "      <td>0</td>\n",
              "      <td>Multi-player;Online Multi-Player;Local Multi-P...</td>\n",
              "      <td>Action</td>\n",
              "      <td>Action;FPS;Multiplayer</td>\n",
              "      <td>0</td>\n",
              "      <td>124534</td>\n",
              "      <td>3339</td>\n",
              "      <td>17612</td>\n",
              "      <td>317</td>\n",
              "      <td>10000000-20000000</td>\n",
              "      <td>7.19</td>\n",
              "      <td>2000</td>\n",
              "    </tr>\n",
              "    <tr>\n",
              "      <th>1</th>\n",
              "      <td>20</td>\n",
              "      <td>Team Fortress Classic</td>\n",
              "      <td>1999-04-01</td>\n",
              "      <td>1</td>\n",
              "      <td>Valve</td>\n",
              "      <td>Valve</td>\n",
              "      <td>windows;mac;linux</td>\n",
              "      <td>0</td>\n",
              "      <td>Multi-player;Online Multi-Player;Local Multi-P...</td>\n",
              "      <td>Action</td>\n",
              "      <td>Action;FPS;Multiplayer</td>\n",
              "      <td>0</td>\n",
              "      <td>3318</td>\n",
              "      <td>633</td>\n",
              "      <td>277</td>\n",
              "      <td>62</td>\n",
              "      <td>5000000-10000000</td>\n",
              "      <td>3.99</td>\n",
              "      <td>1999</td>\n",
              "    </tr>\n",
              "    <tr>\n",
              "      <th>2</th>\n",
              "      <td>30</td>\n",
              "      <td>Day of Defeat</td>\n",
              "      <td>2003-05-01</td>\n",
              "      <td>1</td>\n",
              "      <td>Valve</td>\n",
              "      <td>Valve</td>\n",
              "      <td>windows;mac;linux</td>\n",
              "      <td>0</td>\n",
              "      <td>Multi-player;Valve Anti-Cheat enabled</td>\n",
              "      <td>Action</td>\n",
              "      <td>FPS;World War II;Multiplayer</td>\n",
              "      <td>0</td>\n",
              "      <td>3416</td>\n",
              "      <td>398</td>\n",
              "      <td>187</td>\n",
              "      <td>34</td>\n",
              "      <td>5000000-10000000</td>\n",
              "      <td>3.99</td>\n",
              "      <td>2003</td>\n",
              "    </tr>\n",
              "    <tr>\n",
              "      <th>3</th>\n",
              "      <td>40</td>\n",
              "      <td>Deathmatch Classic</td>\n",
              "      <td>2001-06-01</td>\n",
              "      <td>1</td>\n",
              "      <td>Valve</td>\n",
              "      <td>Valve</td>\n",
              "      <td>windows;mac;linux</td>\n",
              "      <td>0</td>\n",
              "      <td>Multi-player;Online Multi-Player;Local Multi-P...</td>\n",
              "      <td>Action</td>\n",
              "      <td>Action;FPS;Multiplayer</td>\n",
              "      <td>0</td>\n",
              "      <td>1273</td>\n",
              "      <td>267</td>\n",
              "      <td>258</td>\n",
              "      <td>184</td>\n",
              "      <td>5000000-10000000</td>\n",
              "      <td>3.99</td>\n",
              "      <td>2001</td>\n",
              "    </tr>\n",
              "    <tr>\n",
              "      <th>4</th>\n",
              "      <td>50</td>\n",
              "      <td>Half-Life: Opposing Force</td>\n",
              "      <td>1999-11-01</td>\n",
              "      <td>1</td>\n",
              "      <td>Gearbox Software</td>\n",
              "      <td>Valve</td>\n",
              "      <td>windows;mac;linux</td>\n",
              "      <td>0</td>\n",
              "      <td>Single-player;Multi-player;Valve Anti-Cheat en...</td>\n",
              "      <td>Action</td>\n",
              "      <td>FPS;Action;Sci-fi</td>\n",
              "      <td>0</td>\n",
              "      <td>5250</td>\n",
              "      <td>288</td>\n",
              "      <td>624</td>\n",
              "      <td>415</td>\n",
              "      <td>5000000-10000000</td>\n",
              "      <td>3.99</td>\n",
              "      <td>1999</td>\n",
              "    </tr>\n",
              "  </tbody>\n",
              "</table>\n",
              "</div>\n",
              "      <button class=\"colab-df-convert\" onclick=\"convertToInteractive('df-9fd8d4ac-6c43-43e6-8ffe-89e1a7606df5')\"\n",
              "              title=\"Convert this dataframe to an interactive table.\"\n",
              "              style=\"display:none;\">\n",
              "        \n",
              "  <svg xmlns=\"http://www.w3.org/2000/svg\" height=\"24px\"viewBox=\"0 0 24 24\"\n",
              "       width=\"24px\">\n",
              "    <path d=\"M0 0h24v24H0V0z\" fill=\"none\"/>\n",
              "    <path d=\"M18.56 5.44l.94 2.06.94-2.06 2.06-.94-2.06-.94-.94-2.06-.94 2.06-2.06.94zm-11 1L8.5 8.5l.94-2.06 2.06-.94-2.06-.94L8.5 2.5l-.94 2.06-2.06.94zm10 10l.94 2.06.94-2.06 2.06-.94-2.06-.94-.94-2.06-.94 2.06-2.06.94z\"/><path d=\"M17.41 7.96l-1.37-1.37c-.4-.4-.92-.59-1.43-.59-.52 0-1.04.2-1.43.59L10.3 9.45l-7.72 7.72c-.78.78-.78 2.05 0 2.83L4 21.41c.39.39.9.59 1.41.59.51 0 1.02-.2 1.41-.59l7.78-7.78 2.81-2.81c.8-.78.8-2.07 0-2.86zM5.41 20L4 18.59l7.72-7.72 1.47 1.35L5.41 20z\"/>\n",
              "  </svg>\n",
              "      </button>\n",
              "      \n",
              "  <style>\n",
              "    .colab-df-container {\n",
              "      display:flex;\n",
              "      flex-wrap:wrap;\n",
              "      gap: 12px;\n",
              "    }\n",
              "\n",
              "    .colab-df-convert {\n",
              "      background-color: #E8F0FE;\n",
              "      border: none;\n",
              "      border-radius: 50%;\n",
              "      cursor: pointer;\n",
              "      display: none;\n",
              "      fill: #1967D2;\n",
              "      height: 32px;\n",
              "      padding: 0 0 0 0;\n",
              "      width: 32px;\n",
              "    }\n",
              "\n",
              "    .colab-df-convert:hover {\n",
              "      background-color: #E2EBFA;\n",
              "      box-shadow: 0px 1px 2px rgba(60, 64, 67, 0.3), 0px 1px 3px 1px rgba(60, 64, 67, 0.15);\n",
              "      fill: #174EA6;\n",
              "    }\n",
              "\n",
              "    [theme=dark] .colab-df-convert {\n",
              "      background-color: #3B4455;\n",
              "      fill: #D2E3FC;\n",
              "    }\n",
              "\n",
              "    [theme=dark] .colab-df-convert:hover {\n",
              "      background-color: #434B5C;\n",
              "      box-shadow: 0px 1px 3px 1px rgba(0, 0, 0, 0.15);\n",
              "      filter: drop-shadow(0px 1px 2px rgba(0, 0, 0, 0.3));\n",
              "      fill: #FFFFFF;\n",
              "    }\n",
              "  </style>\n",
              "\n",
              "      <script>\n",
              "        const buttonEl =\n",
              "          document.querySelector('#df-9fd8d4ac-6c43-43e6-8ffe-89e1a7606df5 button.colab-df-convert');\n",
              "        buttonEl.style.display =\n",
              "          google.colab.kernel.accessAllowed ? 'block' : 'none';\n",
              "\n",
              "        async function convertToInteractive(key) {\n",
              "          const element = document.querySelector('#df-9fd8d4ac-6c43-43e6-8ffe-89e1a7606df5');\n",
              "          const dataTable =\n",
              "            await google.colab.kernel.invokeFunction('convertToInteractive',\n",
              "                                                     [key], {});\n",
              "          if (!dataTable) return;\n",
              "\n",
              "          const docLinkHtml = 'Like what you see? Visit the ' +\n",
              "            '<a target=\"_blank\" href=https://colab.research.google.com/notebooks/data_table.ipynb>data table notebook</a>'\n",
              "            + ' to learn more about interactive tables.';\n",
              "          element.innerHTML = '';\n",
              "          dataTable['output_type'] = 'display_data';\n",
              "          await google.colab.output.renderOutput(dataTable, element);\n",
              "          const docLink = document.createElement('div');\n",
              "          docLink.innerHTML = docLinkHtml;\n",
              "          element.appendChild(docLink);\n",
              "        }\n",
              "      </script>\n",
              "    </div>\n",
              "  </div>\n",
              "  "
            ],
            "text/plain": [
              "   appid                       name  ... price  year\n",
              "0     10             Counter-Strike  ...  7.19  2000\n",
              "1     20      Team Fortress Classic  ...  3.99  1999\n",
              "2     30              Day of Defeat  ...  3.99  2003\n",
              "3     40         Deathmatch Classic  ...  3.99  2001\n",
              "4     50  Half-Life: Opposing Force  ...  3.99  1999\n",
              "\n",
              "[5 rows x 19 columns]"
            ]
          },
          "metadata": {},
          "execution_count": 5
        }
      ]
    },
    {
      "cell_type": "code",
      "metadata": {
        "id": "BAz89pn8wEWM"
      },
      "source": [
        "#Create score column\n",
        "def create_score(row):\n",
        "  pos_count = row['positive_ratings']  \n",
        "  neg_count = row['negative_ratings']\n",
        "  total_count = pos_count + neg_count\n",
        "  average = pos_count / total_count\n",
        "  return round(average, 2)\n",
        "\n",
        "def total_ratings(row):\n",
        "  pos_count = row['positive_ratings']  \n",
        "  neg_count = row['negative_ratings']\n",
        "  total_count = pos_count + neg_count\n",
        "  return total_count\n",
        "\n",
        "df['total_ratings'] = df.apply(total_ratings, axis=1)\n",
        "df['score'] = df.apply(create_score, axis=1)\n"
      ],
      "execution_count": 6,
      "outputs": []
    },
    {
      "cell_type": "code",
      "source": [
        "# Calculate mean of vote average column\n",
        "C = df['score'].mean()\n",
        "\n",
        "# Calculate the minimum number of votes required to be in the chart, m\n",
        "m = df['total_ratings'].quantile(0.90)\n",
        "print(m)"
      ],
      "metadata": {
        "colab": {
          "base_uri": "https://localhost:8080/"
        },
        "id": "6jKg6nvU9I1k",
        "outputId": "3e241b62-bfcf-4ebf-bf79-7aac6f7d5fda"
      },
      "execution_count": 7,
      "outputs": [
        {
          "output_type": "stream",
          "name": "stdout",
          "text": [
            "908.6000000000022\n"
          ]
        }
      ]
    },
    {
      "cell_type": "code",
      "source": [
        "# calculate the weighted rating for each qualified game\n",
        "# Function that computes the weighted rating of each game\n",
        "def weighted_rating(x, m=m, C=C):\n",
        "    v = x['total_ratings']\n",
        "    R = x['score']\n",
        "    # Calculation based on the IMDB formula\n",
        "    return round((v/(v+m) * R) + (m/(m+v) * C), 2)\n",
        "\n",
        "# Define a new feature 'score' and calculate its value with `weighted_rating()`\n",
        "df['weighted_score'] = df.apply(weighted_rating, axis=1)\n",
        "\n",
        "#Print the top 15 games\n",
        "df[['name', 'total_ratings', 'score', 'weighted_score']].head(15)"
      ],
      "metadata": {
        "colab": {
          "base_uri": "https://localhost:8080/",
          "height": 520
        },
        "id": "zqDhiA3a9N8R",
        "outputId": "6d14bc05-c5ab-471a-e424-42cd95dca0b7"
      },
      "execution_count": 8,
      "outputs": [
        {
          "output_type": "execute_result",
          "data": {
            "text/html": [
              "\n",
              "  <div id=\"df-3016ad91-0cbb-4125-b4e4-1a1512f897bd\">\n",
              "    <div class=\"colab-df-container\">\n",
              "      <div>\n",
              "<style scoped>\n",
              "    .dataframe tbody tr th:only-of-type {\n",
              "        vertical-align: middle;\n",
              "    }\n",
              "\n",
              "    .dataframe tbody tr th {\n",
              "        vertical-align: top;\n",
              "    }\n",
              "\n",
              "    .dataframe thead th {\n",
              "        text-align: right;\n",
              "    }\n",
              "</style>\n",
              "<table border=\"1\" class=\"dataframe\">\n",
              "  <thead>\n",
              "    <tr style=\"text-align: right;\">\n",
              "      <th></th>\n",
              "      <th>name</th>\n",
              "      <th>total_ratings</th>\n",
              "      <th>score</th>\n",
              "      <th>weighted_score</th>\n",
              "    </tr>\n",
              "  </thead>\n",
              "  <tbody>\n",
              "    <tr>\n",
              "      <th>0</th>\n",
              "      <td>Counter-Strike</td>\n",
              "      <td>127873</td>\n",
              "      <td>0.97</td>\n",
              "      <td>0.97</td>\n",
              "    </tr>\n",
              "    <tr>\n",
              "      <th>1</th>\n",
              "      <td>Team Fortress Classic</td>\n",
              "      <td>3951</td>\n",
              "      <td>0.84</td>\n",
              "      <td>0.82</td>\n",
              "    </tr>\n",
              "    <tr>\n",
              "      <th>2</th>\n",
              "      <td>Day of Defeat</td>\n",
              "      <td>3814</td>\n",
              "      <td>0.90</td>\n",
              "      <td>0.86</td>\n",
              "    </tr>\n",
              "    <tr>\n",
              "      <th>3</th>\n",
              "      <td>Deathmatch Classic</td>\n",
              "      <td>1540</td>\n",
              "      <td>0.83</td>\n",
              "      <td>0.79</td>\n",
              "    </tr>\n",
              "    <tr>\n",
              "      <th>4</th>\n",
              "      <td>Half-Life: Opposing Force</td>\n",
              "      <td>5538</td>\n",
              "      <td>0.95</td>\n",
              "      <td>0.92</td>\n",
              "    </tr>\n",
              "    <tr>\n",
              "      <th>5</th>\n",
              "      <td>Ricochet</td>\n",
              "      <td>3442</td>\n",
              "      <td>0.80</td>\n",
              "      <td>0.78</td>\n",
              "    </tr>\n",
              "    <tr>\n",
              "      <th>6</th>\n",
              "      <td>Half-Life</td>\n",
              "      <td>28855</td>\n",
              "      <td>0.96</td>\n",
              "      <td>0.95</td>\n",
              "    </tr>\n",
              "    <tr>\n",
              "      <th>7</th>\n",
              "      <td>Counter-Strike: Condition Zero</td>\n",
              "      <td>13559</td>\n",
              "      <td>0.89</td>\n",
              "      <td>0.88</td>\n",
              "    </tr>\n",
              "    <tr>\n",
              "      <th>8</th>\n",
              "      <td>Half-Life: Blue Shift</td>\n",
              "      <td>4242</td>\n",
              "      <td>0.90</td>\n",
              "      <td>0.87</td>\n",
              "    </tr>\n",
              "    <tr>\n",
              "      <th>9</th>\n",
              "      <td>Half-Life 2</td>\n",
              "      <td>70321</td>\n",
              "      <td>0.97</td>\n",
              "      <td>0.97</td>\n",
              "    </tr>\n",
              "    <tr>\n",
              "      <th>10</th>\n",
              "      <td>Counter-Strike: Source</td>\n",
              "      <td>80137</td>\n",
              "      <td>0.96</td>\n",
              "      <td>0.96</td>\n",
              "    </tr>\n",
              "    <tr>\n",
              "      <th>11</th>\n",
              "      <td>Half-Life: Source</td>\n",
              "      <td>4820</td>\n",
              "      <td>0.78</td>\n",
              "      <td>0.77</td>\n",
              "    </tr>\n",
              "    <tr>\n",
              "      <th>12</th>\n",
              "      <td>Day of Defeat: Source</td>\n",
              "      <td>11699</td>\n",
              "      <td>0.90</td>\n",
              "      <td>0.89</td>\n",
              "    </tr>\n",
              "    <tr>\n",
              "      <th>13</th>\n",
              "      <td>Half-Life 2: Deathmatch</td>\n",
              "      <td>6807</td>\n",
              "      <td>0.88</td>\n",
              "      <td>0.86</td>\n",
              "    </tr>\n",
              "    <tr>\n",
              "      <th>14</th>\n",
              "      <td>Half-Life 2: Lost Coast</td>\n",
              "      <td>6803</td>\n",
              "      <td>0.85</td>\n",
              "      <td>0.83</td>\n",
              "    </tr>\n",
              "  </tbody>\n",
              "</table>\n",
              "</div>\n",
              "      <button class=\"colab-df-convert\" onclick=\"convertToInteractive('df-3016ad91-0cbb-4125-b4e4-1a1512f897bd')\"\n",
              "              title=\"Convert this dataframe to an interactive table.\"\n",
              "              style=\"display:none;\">\n",
              "        \n",
              "  <svg xmlns=\"http://www.w3.org/2000/svg\" height=\"24px\"viewBox=\"0 0 24 24\"\n",
              "       width=\"24px\">\n",
              "    <path d=\"M0 0h24v24H0V0z\" fill=\"none\"/>\n",
              "    <path d=\"M18.56 5.44l.94 2.06.94-2.06 2.06-.94-2.06-.94-.94-2.06-.94 2.06-2.06.94zm-11 1L8.5 8.5l.94-2.06 2.06-.94-2.06-.94L8.5 2.5l-.94 2.06-2.06.94zm10 10l.94 2.06.94-2.06 2.06-.94-2.06-.94-.94-2.06-.94 2.06-2.06.94z\"/><path d=\"M17.41 7.96l-1.37-1.37c-.4-.4-.92-.59-1.43-.59-.52 0-1.04.2-1.43.59L10.3 9.45l-7.72 7.72c-.78.78-.78 2.05 0 2.83L4 21.41c.39.39.9.59 1.41.59.51 0 1.02-.2 1.41-.59l7.78-7.78 2.81-2.81c.8-.78.8-2.07 0-2.86zM5.41 20L4 18.59l7.72-7.72 1.47 1.35L5.41 20z\"/>\n",
              "  </svg>\n",
              "      </button>\n",
              "      \n",
              "  <style>\n",
              "    .colab-df-container {\n",
              "      display:flex;\n",
              "      flex-wrap:wrap;\n",
              "      gap: 12px;\n",
              "    }\n",
              "\n",
              "    .colab-df-convert {\n",
              "      background-color: #E8F0FE;\n",
              "      border: none;\n",
              "      border-radius: 50%;\n",
              "      cursor: pointer;\n",
              "      display: none;\n",
              "      fill: #1967D2;\n",
              "      height: 32px;\n",
              "      padding: 0 0 0 0;\n",
              "      width: 32px;\n",
              "    }\n",
              "\n",
              "    .colab-df-convert:hover {\n",
              "      background-color: #E2EBFA;\n",
              "      box-shadow: 0px 1px 2px rgba(60, 64, 67, 0.3), 0px 1px 3px 1px rgba(60, 64, 67, 0.15);\n",
              "      fill: #174EA6;\n",
              "    }\n",
              "\n",
              "    [theme=dark] .colab-df-convert {\n",
              "      background-color: #3B4455;\n",
              "      fill: #D2E3FC;\n",
              "    }\n",
              "\n",
              "    [theme=dark] .colab-df-convert:hover {\n",
              "      background-color: #434B5C;\n",
              "      box-shadow: 0px 1px 3px 1px rgba(0, 0, 0, 0.15);\n",
              "      filter: drop-shadow(0px 1px 2px rgba(0, 0, 0, 0.3));\n",
              "      fill: #FFFFFF;\n",
              "    }\n",
              "  </style>\n",
              "\n",
              "      <script>\n",
              "        const buttonEl =\n",
              "          document.querySelector('#df-3016ad91-0cbb-4125-b4e4-1a1512f897bd button.colab-df-convert');\n",
              "        buttonEl.style.display =\n",
              "          google.colab.kernel.accessAllowed ? 'block' : 'none';\n",
              "\n",
              "        async function convertToInteractive(key) {\n",
              "          const element = document.querySelector('#df-3016ad91-0cbb-4125-b4e4-1a1512f897bd');\n",
              "          const dataTable =\n",
              "            await google.colab.kernel.invokeFunction('convertToInteractive',\n",
              "                                                     [key], {});\n",
              "          if (!dataTable) return;\n",
              "\n",
              "          const docLinkHtml = 'Like what you see? Visit the ' +\n",
              "            '<a target=\"_blank\" href=https://colab.research.google.com/notebooks/data_table.ipynb>data table notebook</a>'\n",
              "            + ' to learn more about interactive tables.';\n",
              "          element.innerHTML = '';\n",
              "          dataTable['output_type'] = 'display_data';\n",
              "          await google.colab.output.renderOutput(dataTable, element);\n",
              "          const docLink = document.createElement('div');\n",
              "          docLink.innerHTML = docLinkHtml;\n",
              "          element.appendChild(docLink);\n",
              "        }\n",
              "      </script>\n",
              "    </div>\n",
              "  </div>\n",
              "  "
            ],
            "text/plain": [
              "                              name  total_ratings  score  weighted_score\n",
              "0                   Counter-Strike         127873   0.97            0.97\n",
              "1            Team Fortress Classic           3951   0.84            0.82\n",
              "2                    Day of Defeat           3814   0.90            0.86\n",
              "3               Deathmatch Classic           1540   0.83            0.79\n",
              "4        Half-Life: Opposing Force           5538   0.95            0.92\n",
              "5                         Ricochet           3442   0.80            0.78\n",
              "6                        Half-Life          28855   0.96            0.95\n",
              "7   Counter-Strike: Condition Zero          13559   0.89            0.88\n",
              "8            Half-Life: Blue Shift           4242   0.90            0.87\n",
              "9                      Half-Life 2          70321   0.97            0.97\n",
              "10          Counter-Strike: Source          80137   0.96            0.96\n",
              "11               Half-Life: Source           4820   0.78            0.77\n",
              "12           Day of Defeat: Source          11699   0.90            0.89\n",
              "13         Half-Life 2: Deathmatch           6807   0.88            0.86\n",
              "14         Half-Life 2: Lost Coast           6803   0.85            0.83"
            ]
          },
          "metadata": {},
          "execution_count": 8
        }
      ]
    },
    {
      "cell_type": "code",
      "source": [
        "#The reason we're adding this is for tags with multiple words, we need to connect by '-' before we split them by ' '\n",
        "df['steamspy_tags'] = df['steamspy_tags'].str.replace(' ','-')\n",
        "#TFIDF\n",
        "df['genres'] = df['steamspy_tags'].str.replace(';',' ')\n",
        "# count the number of occurences for each genre in the data set\n",
        "counts = dict()\n",
        "for i in df.index:\n",
        "  #for each element in list (each row, split by ' ', in genres column) \n",
        "  #-- we're splitting by space so tfidf can interpret the cells\n",
        "   for g in df.loc[i,'genres'].split(' '):\n",
        "#if element is not in counts(dictionary of genres)\n",
        "      if g not in counts:\n",
        "        #give genre dictonary entry the value of 1\n",
        "         counts[g] = 1\n",
        "      else:\n",
        "        #increase genre dictionary entry by 1\n",
        "         counts[g] = counts[g] + 1\n",
        "\n",
        "#Test Genre Counts\n",
        "counts.keys()\n",
        "print(counts['Action'])"
      ],
      "metadata": {
        "id": "yhnbcaAhyiPi",
        "colab": {
          "base_uri": "https://localhost:8080/"
        },
        "outputId": "001059bd-b078-42ff-9309-3386817ecca5"
      },
      "execution_count": 9,
      "outputs": [
        {
          "output_type": "stream",
          "name": "stdout",
          "text": [
            "10322\n"
          ]
        }
      ]
    },
    {
      "cell_type": "markdown",
      "metadata": {
        "id": "2NbN9qoLwFAi"
      },
      "source": [
        "# Import the Recommender Modules\n",
        "\n",
        "These are the modules we need to build our recommendation engine.\n",
        "\n",
        "[TfidfVectorizer](https://datacamp.pxf.io/9W2Dn0) will turn each unique word into a word vector. Linear_kernel will be used to apply the cosine similarity function on each row per game. And fuzzywuzzy is needed to match similar phrases to the user input."
      ]
    },
    {
      "cell_type": "code",
      "metadata": {
        "id": "6xBt3Ob3wZl1",
        "colab": {
          "base_uri": "https://localhost:8080/"
        },
        "outputId": "2b86c3ec-091c-4a38-ff6c-7b0e12cb0161"
      },
      "source": [
        "from sklearn.feature_extraction.text import TfidfVectorizer\n",
        "from sklearn.metrics.pairwise import linear_kernel\n",
        "!pip install fuzzywuzzy\n",
        "#https://pypi.org/project/fuzzywuzzy/\n",
        "from fuzzywuzzy import fuzz"
      ],
      "execution_count": 10,
      "outputs": [
        {
          "output_type": "stream",
          "name": "stdout",
          "text": [
            "Collecting fuzzywuzzy\n",
            "  Downloading fuzzywuzzy-0.18.0-py2.py3-none-any.whl (18 kB)\n",
            "Installing collected packages: fuzzywuzzy\n",
            "Successfully installed fuzzywuzzy-0.18.0\n"
          ]
        },
        {
          "output_type": "stream",
          "name": "stderr",
          "text": [
            "/usr/local/lib/python3.7/dist-packages/fuzzywuzzy/fuzz.py:11: UserWarning: Using slow pure-python SequenceMatcher. Install python-Levenshtein to remove this warning\n",
            "  warnings.warn('Using slow pure-python SequenceMatcher. Install python-Levenshtein to remove this warning')\n"
          ]
        }
      ]
    },
    {
      "cell_type": "markdown",
      "metadata": {
        "id": "K0PEfl0Aw04z"
      },
      "source": [
        "# Transform word vectors and calculate cosine distance\n",
        "\n",
        "We need to convert the data into a format that can interpreted by our Similarity and Vectorizer modules.\n",
        "\n",
        "Depending on how much text data you have, this may take some time. Here we apply the vectorizer with a stop_words parameter which is optional but recommended in order to remove unnecessary noise from your text data. TD-IDF is about identify the most important words within your text data.\n",
        "\n",
        "Then we can apply the cosine similarity which is the most important part where we compare the distance between each game based on their collection of word vectors."
      ]
    },
    {
      "cell_type": "code",
      "metadata": {
        "id": "NeNqCur3xM9W"
      },
      "source": [
        "# create an object for TfidfVectorizer\n",
        "tfidf_vector = TfidfVectorizer(stop_words='english')\n",
        "# apply the object to the genres column\n",
        "# convert the list of documents (rows of genre tags) into a matrix \n",
        "tfidf_matrix = tfidf_vector.fit_transform(df['genres'])"
      ],
      "execution_count": 11,
      "outputs": []
    },
    {
      "cell_type": "code",
      "source": [
        "tfidf_matrix.shape\n",
        "#The tfidf_matrix is the matrix with 27075 rows(games) and 370 columns(genres)"
      ],
      "metadata": {
        "colab": {
          "base_uri": "https://localhost:8080/"
        },
        "id": "e0fChW6Jzwy4",
        "outputId": "e942f7ad-f713-497b-df84-41fb96e346e4"
      },
      "execution_count": 12,
      "outputs": [
        {
          "output_type": "execute_result",
          "data": {
            "text/plain": [
              "(27075, 370)"
            ]
          },
          "metadata": {},
          "execution_count": 12
        }
      ]
    },
    {
      "cell_type": "code",
      "source": [
        "print(list(enumerate(tfidf_vector.get_feature_names())))"
      ],
      "metadata": {
        "colab": {
          "base_uri": "https://localhost:8080/"
        },
        "id": "r6peJuYHz1Rp",
        "outputId": "0d1e0837-cb0c-4fb8-a280-3c0d6811cc09"
      },
      "execution_count": 13,
      "outputs": [
        {
          "output_type": "stream",
          "name": "stdout",
          "text": [
            "[(0, '1980s'), (1, '1990'), (2, '2d'), (3, '360'), (4, '3d'), (5, '40k'), (6, '4x'), (7, '5d'), (8, '6dof'), (9, 'abstract'), (10, 'access'), (11, 'action'), (12, 'adventure'), (13, 'agriculture'), (14, 'aliens'), (15, 'alternate'), (16, 'america'), (17, 'animation'), (18, 'anime'), (19, 'apocalyptic'), (20, 'arcade'), (21, 'arena'), (22, 'arts'), (23, 'assassin'), (24, 'atmospheric'), (25, 'attack'), (26, 'audio'), (27, 'awkward'), (28, 'base'), (29, 'baseball'), (30, 'based'), (31, 'basketball'), (32, 'batman'), (33, 'battle'), (34, 'beat'), (35, 'beautiful'), (36, 'benchmark'), (37, 'bikes'), (38, 'blood'), (39, 'bmx'), (40, 'board'), (41, 'book'), (42, 'bowling'), (43, 'builder'), (44, 'building'), (45, 'bullet'), (46, 'capitalism'), (47, 'card'), (48, 'cartoon'), (49, 'cartoony'), (50, 'casual'), (51, 'cats'), (52, 'character'), (53, 'chess'), (54, 'choices'), (55, 'choose'), (56, 'cinematic'), (57, 'city'), (58, 'class'), (59, 'classic'), (60, 'click'), (61, 'clicker'), (62, 'cold'), (63, 'colorful'), (64, 'combat'), (65, 'comedy'), (66, 'comic'), (67, 'competitive'), (68, 'content'), (69, 'control'), (70, 'controller'), (71, 'controls'), (72, 'conversation'), (73, 'crafting'), (74, 'crawler'), (75, 'crime'), (76, 'croft'), (77, 'crpg'), (78, 'cult'), (79, 'customization'), (80, 'cute'), (81, 'cyberpunk'), (82, 'cycling'), (83, 'dark'), (84, 'dating'), (85, 'death'), (86, 'defense'), (87, 'demons'), (88, 'design'), (89, 'destruction'), (90, 'detective'), (91, 'development'), (92, 'difficult'), (93, 'dinosaurs'), (94, 'diplomacy'), (95, 'documentary'), (96, 'dog'), (97, 'dragons'), (98, 'drama'), (99, 'drawn'), (100, 'driving'), (101, 'dungeon'), (102, 'dungeons'), (103, 'dystopian'), (104, 'early'), (105, 'economy'), (106, 'editing'), (107, 'editor'), (108, 'education'), (109, 'em'), (110, 'endings'), (111, 'epic'), (112, 'events'), (113, 'experimental'), (114, 'exploration'), (115, 'faith'), (116, 'family'), (117, 'fantasy'), (118, 'fast'), (119, 'female'), (120, 'fi'), (121, 'fiction'), (122, 'fighter'), (123, 'fighting'), (124, 'fishing'), (125, 'flight'), (126, 'fmv'), (127, 'football'), (128, 'fps'), (129, 'free'), (130, 'friendly'), (131, 'funny'), (132, 'futuristic'), (133, 'gambling'), (134, 'game'), (135, 'gamemaker'), (136, 'games'), (137, 'generation'), (138, 'god'), (139, 'golf'), (140, 'gore'), (141, 'gothic'), (142, 'grand'), (143, 'graphics'), (144, 'great'), (145, 'grid'), (146, 'gun'), (147, 'hack'), (148, 'hacking'), (149, 'hand'), (150, 'heist'), (151, 'hell'), (152, 'hex'), (153, 'hidden'), (154, 'historical'), (155, 'history'), (156, 'hockey'), (157, 'horror'), (158, 'horses'), (159, 'humor'), (160, 'hunting'), (161, 'ii'), (162, 'illuminati'), (163, 'illustration'), (164, 'indie'), (165, 'intentionally'), (166, 'interactive'), (167, 'inventory'), (168, 'investigation'), (169, 'isometric'), (170, 'jrpg'), (171, 'kickstarter'), (172, 'lara'), (173, 'lego'), (174, 'lemmings'), (175, 'level'), (176, 'like'), (177, 'linear'), (178, 'lite'), (179, 'local'), (180, 'logic'), (181, 'loot'), (182, 'lovecraftian'), (183, 'magic'), (184, 'management'), (185, 'manipulation'), (186, 'mars'), (187, 'martial'), (188, 'massively'), (189, 'masterpiece'), (190, 'match'), (191, 'matter'), (192, 'mature'), (193, 'mechs'), (194, 'medieval'), (195, 'memes'), (196, 'metroidvania'), (197, 'military'), (198, 'mini'), (199, 'minimalist'), (200, 'mining'), (201, 'mmorpg'), (202, 'moba'), (203, 'mod'), (204, 'moddable'), (205, 'modeling'), (206, 'motocross'), (207, 'motorbike'), (208, 'mouse'), (209, 'movement'), (210, 'movie'), (211, 'multiplayer'), (212, 'multiple'), (213, 'music'), (214, 'mystery'), (215, 'mythology'), (216, 'narration'), (217, 'naval'), (218, 'ninja'), (219, 'noir'), (220, 'nonlinear'), (221, 'novel'), (222, 'nsfw'), (223, 'nudity'), (224, 'object'), (225, 'offroad'), (226, 'old'), (227, 'online'), (228, 'op'), (229, 'open'), (230, 'otome'), (231, 'paced'), (232, 'parkour'), (233, 'parody'), (234, 'party'), (235, 'pause'), (236, 'perma'), (237, 'person'), (238, 'philisophical'), (239, 'photo'), (240, 'physics'), (241, 'pinball'), (242, 'pirates'), (243, 'pixel'), (244, 'platformer'), (245, 'play'), (246, 'player'), (247, 'point'), (248, 'political'), (249, 'politics'), (250, 'pool'), (251, 'post'), (252, 'procedural'), (253, 'production'), (254, 'programming'), (255, 'protagonist'), (256, 'psychedelic'), (257, 'psychological'), (258, 'publishing'), (259, 'puzzle'), (260, 'pvp'), (261, 'quick'), (262, 'racing'), (263, 'rails'), (264, 'real'), (265, 'realistic'), (266, 'relaxing'), (267, 'remake'), (268, 'replay'), (269, 'resource'), (270, 'retro'), (271, 'rhythm'), (272, 'rich'), (273, 'robots'), (274, 'rogue'), (275, 'romance'), (276, 'rome'), (277, 'royale'), (278, 'rpg'), (279, 'rpgmaker'), (280, 'rts'), (281, 'runner'), (282, 'sailing'), (283, 'sandbox'), (284, 'satire'), (285, 'school'), (286, 'sci'), (287, 'science'), (288, 'score'), (289, 'screen'), (290, 'scroller'), (291, 'sexual'), (292, 'shoot'), (293, 'shooter'), (294, 'short'), (295, 'sim'), (296, 'simulation'), (297, 'simulator'), (298, 'singleplayer'), (299, 'skateboarding'), (300, 'skating'), (301, 'slash'), (302, 'sniper'), (303, 'snow'), (304, 'snowboarding'), (305, 'soccer'), (306, 'software'), (307, 'sokoban'), (308, 'souls'), (309, 'soundtrack'), (310, 'space'), (311, 'spectacle'), (312, 'spelling'), (313, 'split'), (314, 'sports'), (315, 'star'), (316, 'stealth'), (317, 'steampunk'), (318, 'stick'), (319, 'story'), (320, 'strategy'), (321, 'stylized'), (322, 'submarine'), (323, 'superhero'), (324, 'supernatural'), (325, 'surreal'), (326, 'survival'), (327, 'swordplay'), (328, 'tactical'), (329, 'tactics'), (330, 'tanks'), (331, 'team'), (332, 'tennis'), (333, 'text'), (334, 'thriller'), (335, 'time'), (336, 'touch'), (337, 'tower'), (338, 'trading'), (339, 'training'), (340, 'trains'), (341, 'travel'), (342, 'turn'), (343, 'twin'), (344, 'typing'), (345, 'underwater'), (346, 'utilities'), (347, 'value'), (348, 'vampire'), (349, 'video'), (350, 'villain'), (351, 'violent'), (352, 'vision'), (353, 'visual'), (354, 'voice'), (355, 'voxel'), (356, 'vr'), (357, 'walking'), (358, 'war'), (359, 'wargame'), (360, 'warhammer'), (361, 'wars'), (362, 'web'), (363, 'werewolves'), (364, 'western'), (365, 'word'), (366, 'workshop'), (367, 'world'), (368, 'wrestling'), (369, 'zombies')]\n"
          ]
        },
        {
          "output_type": "stream",
          "name": "stderr",
          "text": [
            "/usr/local/lib/python3.7/dist-packages/sklearn/utils/deprecation.py:87: FutureWarning: Function get_feature_names is deprecated; get_feature_names is deprecated in 1.0 and will be removed in 1.2. Please use get_feature_names_out instead.\n",
            "  warnings.warn(msg, category=FutureWarning)\n"
          ]
        }
      ]
    },
    {
      "cell_type": "code",
      "source": [
        "# create the cosine similarity matrix\n",
        "sim_matrix = linear_kernel(tfidf_matrix,tfidf_matrix) \n",
        "print(sim_matrix)"
      ],
      "metadata": {
        "id": "MQ4Z0uVHz4Ov",
        "colab": {
          "base_uri": "https://localhost:8080/"
        },
        "outputId": "4dc5aeb6-21bf-49b8-91c8-c834815c2ae9"
      },
      "execution_count": 14,
      "outputs": [
        {
          "output_type": "stream",
          "name": "stdout",
          "text": [
            "[[1.         1.         0.53785954 ... 0.16328518 0.         0.        ]\n",
            " [1.         1.         0.53785954 ... 0.16328518 0.         0.        ]\n",
            " [0.53785954 0.53785954 1.         ... 0.         0.         0.        ]\n",
            " ...\n",
            " [0.16328518 0.16328518 0.         ... 1.         0.61573349 0.61573349]\n",
            " [0.         0.         0.         ... 0.61573349 1.         1.        ]\n",
            " [0.         0.         0.         ... 0.61573349 1.         1.        ]]\n"
          ]
        }
      ]
    },
    {
      "cell_type": "code",
      "source": [
        "# create a function to find the closest title name\n",
        "def matching_score(a,b):\n",
        "  #fuzz.ratio(a,b) calculates the Levenshtein Distance between a and b, and returns the score for the distance\n",
        "   return fuzz.ratio(a,b)\n",
        "   # exactly the same, the score becomes 100"
      ],
      "metadata": {
        "id": "jyun_9QR0DFm"
      },
      "execution_count": 15,
      "outputs": []
    },
    {
      "cell_type": "markdown",
      "metadata": {
        "id": "0W73QI04xUN9"
      },
      "source": [
        "# Making our Recommendation Engine User-friendly\n",
        "\n",
        "These functions fine-tune our inputs so we can return recommendations that the end-user wants.\n",
        "\n",
        "The Recommendation Engine is made up of multiple functions which I will work through one by one. The complexity is dependent on the number of outputs you want, how sophisticated you want your results to be and what parameters you want. This includes:\n",
        "\n",
        "* Functions to return relevant values for each game title\n",
        "* Function to find closest game title \n",
        "* Function to return top 10 games\n"
      ]
    },
    {
      "cell_type": "code",
      "metadata": {
        "id": "xQT0-PUEyE5v"
      },
      "source": [
        "##These functions needed to return different attributes of the recommended game titles\n",
        "\n",
        "#Convert index to title_year\n",
        "def get_title_year_from_index(index):\n",
        "   return df[df.index == index]['year'].values[0]\n",
        "#Convert index to title\n",
        "def get_title_from_index(index):\n",
        "   return df[df.index == index]['name'].values[0]\n",
        "#Convert index to title\n",
        "def get_index_from_title(title):\n",
        "   return df[df.name == title].index.values[0]\n",
        "#Convert index to score\n",
        "def get_score_from_index(index):\n",
        "   return df[df.index == index]['score'].values[0]\n",
        "#Convert index to weighted score\n",
        "def get_weighted_score_from_index(index):\n",
        "   return df[df.index == index]['weighted_score'].values[0]\n",
        "#Convert index to total_ratings\n",
        "def get_total_ratings_from_index(index):\n",
        "   return df[df.index == index]['total_ratings'].values[0]\n",
        "#Convert index to platform\n",
        "def get_platform_from_index(index):\n",
        "  return df[df.index == index]['platforms'].values[0]\n",
        "   \n",
        "# A function to return the most similar title to the words a user type\n",
        "# Without this, the recommender only works when a user enters the exact title which the data has.\n",
        "def find_closest_title(title):\n",
        "  #matching_score(a,b) > a is the current row, b is the title we're trying to match\n",
        "   leven_scores = list(enumerate(df['name'].apply(matching_score, b=title))) #[(0, 30), (1,95), (2, 19)~~] A tuple of distances per index\n",
        "   sorted_leven_scores = sorted(leven_scores, key=lambda x: x[1], reverse=True) #Sorts list of tuples by distance [(1, 95), (3, 49), (0, 30)~~]\n",
        "   closest_title = get_title_from_index(sorted_leven_scores[0][0])\n",
        "   distance_score = sorted_leven_scores[0][1]\n",
        "   return closest_title, distance_score\n",
        "   # Bejeweled Twist, 100"
      ],
      "execution_count": 16,
      "outputs": []
    },
    {
      "cell_type": "code",
      "source": [
        "#find_closest_title returns only one title but I want a dropdown of the 10 closest game titles\n",
        "def closest_names(title):\n",
        "   leven_scores = list(enumerate(df['name'].apply(matching_score, b=title)))\n",
        "   sorted_leven_scores = sorted(leven_scores, key=lambda x: x[1], reverse=True)\n",
        "   top_closest_names = [get_title_from_index(i[0]) for i in sorted_leven_scores[:10]]  #[['Team Fortress Classic', 'Deathmatch Classic', 'Counter-Strike',~~]\n",
        "   return top_closest_names\n",
        "\n",
        "closest_names('Valhalla')\n"
      ],
      "metadata": {
        "colab": {
          "base_uri": "https://localhost:8080/"
        },
        "id": "QZmYMCvvecw3",
        "outputId": "1b16c40d-638a-468a-ae9f-503bb66f70c5"
      },
      "execution_count": 17,
      "outputs": [
        {
          "output_type": "execute_result",
          "data": {
            "text/plain": [
              "['Walhall',\n",
              " 'Brawlhalla',\n",
              " 'Valhalla Hills',\n",
              " 'Valhall 2000',\n",
              " 'Zahalia',\n",
              " 'Die for Valhalla!',\n",
              " 'Parallax',\n",
              " 'Taking Valhalla VR',\n",
              " 'Earthfall',\n",
              " 'Valley']"
            ]
          },
          "metadata": {},
          "execution_count": 17
        }
      ]
    },
    {
      "cell_type": "markdown",
      "metadata": {
        "id": "RlwBXP7PyFXw"
      },
      "source": [
        "# Game Recommendations based on Inputs\n",
        "\n",
        "We want to return a recommended games for a game chosen by the end user. With the Gradio Interface we can fine-tune it so that it returns:     \n",
        "* **N** games results\n",
        "* Within the minimum of **N** years\n",
        "* Available on a selected platform\n",
        "* Above a minimum score\n",
        "* Sorted from top to bottom based on **N** value\n",
        "\n",
        "The **N** is the user input.\n",
        "\n",
        "There's a lot going on in this Recommender function so even with the comments within the code I'll break it down the main actions in the function as bullet points :\n",
        "* Return closest game title match\n",
        "* Create an empty Dataframe to store results\n",
        "* Update closest game variable to the chosen dropdown option \n",
        "* Return a list of the most similar game indexes as a list\n",
        "* Only return the games that meet the user's preferences including: selected platform, minimum score, minimum release year and sorted based on chosen value.\n",
        "* Append results in the dataframe n amount of times\n",
        "* Dataframe will contain attributes based on chosen games\n",
        "\n"
      ]
    },
    {
      "cell_type": "code",
      "source": [
        "!pip install gradio\n",
        "import gradio as gr"
      ],
      "metadata": {
        "id": "AiJmi4Em0iMp"
      },
      "execution_count": null,
      "outputs": []
    },
    {
      "cell_type": "code",
      "source": [
        "#https://gradio.app/docs/#i_slider\n",
        "\n",
        "def gradio_contents_based_recommender_v2(game, how_many, dropdown_option, sort_option, min_year, platform, min_score):\n",
        "  #Return closest game title match\n",
        "  closest_title, distance_score = find_closest_title(dropdown_option)\n",
        "  #Create a Dataframe with these column headers\n",
        "  recomm_df = pd.DataFrame(columns=['Game Title', 'Year', 'Score', 'Weighted Score', 'Total Ratings'])\n",
        "  #Make the closest title whichever dropdown option the user has chosen\n",
        "  closest_title = dropdown_option\n",
        "  #find the corresponding index of the game title\n",
        "  games_index = get_index_from_title(closest_title)\n",
        "  #return a list of the most similar game indexes as a list\n",
        "  games_list = list(enumerate(sim_matrix[int(games_index)]))\n",
        "  #Sort list of similar games from top to bottom\n",
        "  similar_games = list(filter(lambda x:x[0] != int(games_index), sorted(games_list,key=lambda x:x[1], reverse=True)))\n",
        "  #Print the game title the similarity matrix is based on\n",
        "  print('Here\\'s the list of games similar to '+'\\033[1m'+str(closest_title)+'\\033[0m'+'.\\n')\n",
        "  #Only return the games that are on selected platform\n",
        "  n_games = []\n",
        "  for i,s in similar_games:\n",
        "    if platform in get_platform_from_index(i):\n",
        "      n_games.append((i,s))\n",
        "  #Only return the games that are above the minimum score\n",
        "  high_scores = []\n",
        "  for i,s in n_games:\n",
        "    if get_score_from_index(i) > min_score:\n",
        "      high_scores.append((i,s))\n",
        "    \n",
        "  #Return the game tuple (game index, game distance score) and store in a dataframe\n",
        "  for i,s in n_games[:how_many]: \n",
        "    #Dataframe will contain attributes based on game index\n",
        "    row = {'Game Title': get_title_from_index(i), 'Year': get_title_year_from_index(i), 'Score': get_score_from_index(i), \n",
        "           'Weighted Score': get_weighted_score_from_index(i), \n",
        "           'Total Ratings': get_total_ratings_from_index(i),}\n",
        "    #Append each row to this dataframe       \n",
        "    recomm_df = recomm_df.append(row, ignore_index = True)\n",
        "  #Sort dataframe by Sort_Option provided by user\n",
        "  recomm_df = recomm_df.sort_values(sort_option, ascending=False)\n",
        "  #Only include games released same or after minimum year selected\n",
        "  recomm_df = recomm_df[recomm_df['Year'] >= min_year]\n",
        "\n",
        "  return recomm_df\n",
        "\n",
        "#Create list of unique calendar years based on main df column\n",
        "years_sorted = sorted(list(df['year'].unique()))\n",
        "#Ask user for input\n",
        "print(\"What games do you want most similar to?:\")\n",
        "\n",
        "names = closest_names(input())\n",
        "#Interface will include these buttons based on parameters in the function with a dataframe output\n",
        "dropdown = gr.Interface(gradio_contents_based_recommender_v2, [\"text\", gr.inputs.Slider(1, 20, step=int(1)), \n",
        "                                                            gr.inputs.Dropdown(names), \n",
        "                                                            gr.inputs.Radio(['Year','Score','Weighted Score','Total Ratings']),\n",
        "                                                            gr.inputs.Slider(int(years_sorted[0]), int(years_sorted[-1]), step=int(1)),\n",
        "                                                            gr.inputs.Radio(['windows','xbox','playstation','linux','mac']),\n",
        "                                                            gr.inputs.Slider(0, 10, step=0.1)],\n",
        "                        \"dataframe\")\n",
        "\n",
        "dropdown.launch(debug=True)"
      ],
      "metadata": {
        "id": "Px7y8xTY5F0C"
      },
      "execution_count": null,
      "outputs": []
    },
    {
      "cell_type": "markdown",
      "source": [
        "# How we can improve this recommender engine?\n",
        "\n",
        "This is the most basic version of a recommender engine you can [do with Gradio](https://gradio.app/working_with_ml/). There's loads more you can do but I wanted the first interaction to be simple and build off of that. Some things we can do to improve this includes:\n",
        "\n",
        "* We can update the cosine similarity algorithm with something more nuanced and sophisticated.\n",
        "* The games were compared based on steam tags but there are other features within the dataset that could help enhance the predictions\n",
        "* The name matcher has a long way to go before it can compete with regular search bars making for a better user experience when inputting the game you want similar options to.\n",
        "\n",
        "If you want to build your own recommendation engine with Gradio, feel free to borrow this as a starting point. Also you want some help walking through the steps of building one, then I can recommend these Datacamp courses.\n",
        "\n",
        "* [Building Recommendation Engines in Python](https://datacamp.pxf.io/4e20gM)\n",
        "* [Building Recommendation Engines with PySpark](https://datacamp.pxf.io/yRWA4v)\n"
      ],
      "metadata": {
        "id": "nuntoESB9WIp"
      }
    }
  ]
}